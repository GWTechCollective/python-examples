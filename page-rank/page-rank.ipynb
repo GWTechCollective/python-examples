{
 "cells": [
  {
   "cell_type": "markdown",
   "metadata": {
    "nbpresent": {
     "id": "ff409b56-fda1-4090-a816-4655743971de"
    }
   },
   "source": [
    "# PageRank\n",
    "\n",
    "Adapted from [Cleve Moler's MATLAB book](https://www.mathworks.com/moler/exm/chapters/pagerank.pdf)."
   ]
  },
  {
   "cell_type": "markdown",
   "metadata": {},
   "source": [
    "## Linear Algebra Primer\n",
    "\n",
    "A common task in engineering is solving systems of linear equations. This example will demonstrate how to solve a simple set of linear equations using Google's PageRank algorithm as an example."
   ]
  },
  {
   "cell_type": "markdown",
   "metadata": {},
   "source": [
    "Consider the following system of equations:\n",
    "    \n",
    "\\begin{align}\n",
    "    ax_{1} + bx_{2} &= z_{1} \\\\\n",
    "    cx_{1} + dx_{2} &= z_{2}\n",
    "\\end{align}"
   ]
  },
  {
   "cell_type": "markdown",
   "metadata": {},
   "source": [
    "In linear algebra, this system is susually represented as follows:\n",
    "\n",
    "\\begin{align}\n",
    "    \\begin{bmatrix}\n",
    "        a & b \\\\\n",
    "        c & d\n",
    "    \\end{bmatrix}\n",
    "    \\begin{bmatrix}\n",
    "        x_{1} \\\\\n",
    "        x_{2}\n",
    "    \\end{bmatrix}\n",
    "    =\n",
    "    \\begin{bmatrix}\n",
    "        z_{1} \\\\\n",
    "        z_{2}\n",
    "    \\end{bmatrix}\n",
    "\\end{align}\n"
   ]
  },
  {
   "cell_type": "markdown",
   "metadata": {},
   "source": [
    "The system may be solved by multiplying the inverse of the coefficient matrix by the Z matrix\n",
    "\n",
    "\\begin{align}\n",
    "    \\begin{bmatrix}\n",
    "        a & b \\\\\n",
    "        c & d\n",
    "    \\end{bmatrix}\n",
    "    ^{-1}\n",
    "    \\begin{bmatrix}\n",
    "        z_{1} \\\\\n",
    "        z_{2}\n",
    "    \\end{bmatrix}\n",
    "    =\n",
    "    \\begin{bmatrix}\n",
    "        x_{1} \\\\\n",
    "        x_{2}\n",
    "    \\end{bmatrix}\n",
    "\\end{align}"
   ]
  },
  {
   "cell_type": "markdown",
   "metadata": {},
   "source": [
    "We will now solve a simple word problem as a simple demonstration of this process.\n",
    "\n",
    "> Stanley and Nancy are at the fair.\n",
    "\n",
    "> Stanley buys **two burgers** and **five hotdogs** and pays a total of **$19**.\n",
    "\n",
    "> Nancy buys **three burgers** and **seven hotdogs** and pays a total of **$27**.\n",
    "\n",
    "> What is the price of of a single hamburger or hot dog?"
   ]
  },
  {
   "cell_type": "markdown",
   "metadata": {},
   "source": [
    "We start by setting up the matrix using the information provided by the problem\n",
    "\n",
    "\\begin{align}\n",
    "    \\begin{bmatrix}\n",
    "        2 & 5 \\\\\n",
    "        3 & 7\n",
    "    \\end{bmatrix}\n",
    "    ^{-1}\n",
    "    \\begin{bmatrix}\n",
    "        19 \\\\\n",
    "        27\n",
    "    \\end{bmatrix}\n",
    "    =\n",
    "    \\begin{bmatrix}\n",
    "        x_{1} \\\\\n",
    "        x_{2}\n",
    "    \\end{bmatrix}\n",
    "\\end{align}"
   ]
  },
  {
   "cell_type": "markdown",
   "metadata": {},
   "source": [
    "For a simple 2X2 mmatrix, we can solve for the inverse of a matrix using the following equation:\n",
    "\n",
    "\\begin{align}\n",
    "    \\begin{bmatrix}\n",
    "        a & b \\\\\n",
    "        c & d\n",
    "    \\end{bmatrix}^{-1}\n",
    "    =\n",
    "    \\frac{1}{ad-cb}\n",
    "    \\begin{bmatrix}\n",
    "        d & -b \\\\\n",
    "        -c & a\n",
    "    \\end{bmatrix}\n",
    "\\end{align}\n",
    "\n",
    "Plugging in the values:\n",
    "\n",
    "\\begin{align}\n",
    "    \\begin{bmatrix}\n",
    "        2 & 5 \\\\\n",
    "        3 & 7\n",
    "    \\end{bmatrix}^{-1}\n",
    "    =\n",
    "    \\frac{1}{2\\times7-3\\times5}\n",
    "    \\begin{bmatrix}\n",
    "        7 & -5 \\\\\n",
    "        -3 & 2\n",
    "    \\end{bmatrix}\n",
    "    =\n",
    "    \\begin{bmatrix}\n",
    "        -7 & 5 \\\\\n",
    "        2 & -2\n",
    "    \\end{bmatrix}\n",
    "\\end{align}"
   ]
  },
  {
   "cell_type": "markdown",
   "metadata": {},
   "source": [
    "Multiplying the matrices we get the following result:\n",
    "\n",
    "\\begin{align}\n",
    "    \\begin{bmatrix}\n",
    "        -7 & 5 \\\\\n",
    "        2 & -2\n",
    "    \\end{bmatrix}\n",
    "    \\begin{bmatrix}\n",
    "        19 \\\\\n",
    "        27\n",
    "    \\end{bmatrix}\n",
    "    &=\n",
    "    \\begin{bmatrix}\n",
    "        x_{1} \\\\\n",
    "        x_{2}\n",
    "    \\end{bmatrix}\\\\\\\\\n",
    "    \\begin{bmatrix}\n",
    "        -7 & 5 \\\\\n",
    "        2 & -2\n",
    "    \\end{bmatrix}\n",
    "    \\begin{bmatrix}\n",
    "        19 \\\\\n",
    "        27\n",
    "    \\end{bmatrix}\n",
    "    &=\n",
    "    \\begin{bmatrix}\n",
    "        x_{1} \\\\\n",
    "        x_{2}\n",
    "    \\end{bmatrix}\\\\\\\\\n",
    "    \\begin{bmatrix}\n",
    "        (-7\\times19)+(5\\times27) \\\\\n",
    "        (3\\times9)+(-2\\times27)\n",
    "    \\end{bmatrix}\n",
    "    &=\n",
    "    \\begin{bmatrix}\n",
    "        2 \\\\\n",
    "        3\n",
    "    \\end{bmatrix}\\\\\\\\\n",
    "    \\begin{bmatrix}\n",
    "        x_{1} \\\\\n",
    "        x_{2}\n",
    "    \\end{bmatrix}\n",
    "    &=\n",
    "    \\begin{bmatrix}\n",
    "        2 \\\\\n",
    "        3\n",
    "    \\end{bmatrix}\n",
    "\\end{align}\n"
   ]
  },
  {
   "cell_type": "markdown",
   "metadata": {},
   "source": [
    "**Therefore, burgers cost \\$2 and hotdogs cost \\$3**\n",
    "\n",
    "---"
   ]
  },
  {
   "cell_type": "markdown",
   "metadata": {},
   "source": [
    "Now that we have solved the problem by hand, let's solve it with Python."
   ]
  },
  {
   "cell_type": "code",
   "execution_count": 5,
   "metadata": {
    "collapsed": false
   },
   "outputs": [
    {
     "name": "stdout",
     "output_type": "stream",
     "text": [
      "Burgers cost: $2.00\n",
      "Hotdogs cost: $3.00\n"
     ]
    }
   ],
   "source": [
    "import numpy as np\n",
    "\n",
    "# assign our coefficients matrix\n",
    "a = np.array([[2,5], [3,7]])\n",
    "\n",
    "# assign out z matrix\n",
    "z = np.array([19,27])\n",
    "\n",
    "# use numpy's built in function for solving systems of equations\n",
    "x = np.linalg.solve(a,z)\n",
    "\n",
    "# print the results\n",
    "print(\"Burgers cost: ${0:.2f}\".format(x[0]))\n",
    "print(\"Hotdogs cost: ${0:.2f}\".format(x[1]))"
   ]
  },
  {
   "cell_type": "markdown",
   "metadata": {},
   "source": [
    "## The Algebraic PageRank Algorithm"
   ]
  },
  {
   "cell_type": "markdown",
   "metadata": {},
   "source": [
    "The first step in calculating PageRanks is setting up a connectivity matrix. In the real world this is data that would need to be collected by a web crawler, but here we will assume this has already been done.\n",
    "\n",
    "Below is a diagram showing the way in which a set of pages link to each other. Each arrow represents a one-directional link from one page to another.\n",
    "\n",
    "![connectivity diagram of webpages](http://i.imgur.com/ezYQQBd.png)"
   ]
  },
  {
   "cell_type": "markdown",
   "metadata": {},
   "source": [
    "We can represent the connections in this diagram using a matrix. If we place the names of each website on each axis, we can put the number of links from one page to the other at the corresponding value. Here, the column index represents the page the link is on, and the row index indicates the destination of the link. We will refer to this connecticity matrix as **G**.\n",
    "\n",
    "\\begin{align}\n",
    "    G =\n",
    "    \\begin{bmatrix}\n",
    "        0 & 0 & 0 & 1 & 0 & 1 \\\\\n",
    "        1 & 0 & 0 & 0 & 0 & 0 \\\\\n",
    "        0 & 1 & 0 & 0 & 0 & 0 \\\\\n",
    "        0 & 1 & 1 & 0 & 0 & 0 \\\\\n",
    "        0 & 0 & 1 & 0 & 0 & 0 \\\\\n",
    "        1 & 0 & 1 & 0 & 0 & 0\n",
    "    \\end{bmatrix}\n",
    "\\end{align}\n"
   ]
  },
  {
   "cell_type": "markdown",
   "metadata": {},
   "source": [
    "Now that we have a representation of the pages on our small web, we can look at what a PageRank actually is. The problem of computing PageRanks may be represented using the following equation:\n",
    "\n",
    "\\begin{align}\n",
    "    \\begin{bmatrix}\n",
    "        \\texttt{probability} \\\\\n",
    "        \\texttt{of} \\\\\n",
    "        \\texttt{clicking link}\n",
    "    \\end{bmatrix}\n",
    "    \\begin{bmatrix}\n",
    "        \\texttt{probability} \\\\\n",
    "        \\texttt{of} \\\\\n",
    "        \\texttt{being on a page}\n",
    "    \\end{bmatrix}\n",
    "    &=\n",
    "    \\begin{bmatrix}\n",
    "        1 \\\\\n",
    "        \\vdots \\\\\n",
    "        1\n",
    "    \\end{bmatrix}\n",
    "\\end{align}\n",
    "\n",
    "The first matrix, represents the probability of clicking a link from one page to another. This matrix will be calculated using information from the connectivity matrix created above.\n",
    "\n",
    "The second matrix, really a column vector, is the probability of being on a given webpage. These are the PageRanks for each of the pages.\n",
    "\n",
    "The final column vector of ones is representative of the fact that probabilities must sum to 1."
   ]
  },
  {
   "cell_type": "markdown",
   "metadata": {},
   "source": [
    "To construct the first matrix, we will look at the connectivity matrix. From the connectivity matrix, we determine that probability of going to a page *i* from a page *j* is given by the following equation:\n",
    "\n",
    "\\begin{align}\n",
    "    p_{i} = \\frac{1}{\\texttt{# of links on page j}}\n",
    "\\end{align}\n",
    "\n",
    "All this means is that if there are N links on a page, you have a $\\frac{1}{N}$ chance of selecting a given page. Again, this assumes you are clicking links at random.\n",
    "\n",
    "Using this probability, we will construct a weighting matrix, **W**, in the following manner.\n",
    "\n",
    "\\begin{align}\n",
    "W=\n",
    "    \\begin{bmatrix}\n",
    "        \\frac{1}{N_{0}} & \\dots & 0 \\\\\n",
    "        \\vdots & \\ddots & \\vdots \\\\\n",
    "        0 & \\dots & \\frac{1}{N_{i}}\n",
    "    \\end{bmatrix}\n",
    "\\end{align}\n",
    "\n",
    "This is a matrix that only has values along the diagonal. All other values are zero. The value on the diagonal is defined as the inverse of of the sum of the corresponding column in **G**, the connectivity matrix.\n",
    "\n",
    "Next, we will define a damping factor that accounts for the fact users will not always click another link, and helps prevent sigularities from occuring when inverting the matrix.\n",
    "\n",
    "\\begin{align}\n",
    "    d = \\text{damping factor} \\\\\n",
    "    0 < d < 1\n",
    "\\end{align}\n",
    "\n",
    "As with most probability problems, we do not want *d* itself, but rather the probability $(1 - d)$. We will represent this as the identity matrix, **I**, minus the damping factor, *d*.\n",
    "\n",
    "\\begin{align}\n",
    "    (I-d)\n",
    "\\end{align}\n",
    "\n"
   ]
  },
  {
   "cell_type": "markdown",
   "metadata": {},
   "source": [
    "Now that we the necessary components, we will redefine the equation for the PageRank. Here, **R** will represent the column vector of page ranks, and **e** will represent the column vector of ones.\n",
    "\n",
    "\\begin{align}\n",
    "    R =  \\left[(I-d)G\\times W \\right]^{-1}e\n",
    "\\end{align}"
   ]
  },
  {
   "cell_type": "markdown",
   "metadata": {},
   "source": [
    "Here we will implement a PageRank function in Python that has two inputs, a connectivity matrix and a damping factor. We will also set up some data to be fed to the function and print the result of the calculation."
   ]
  },
  {
   "cell_type": "code",
   "execution_count": 6,
   "metadata": {
    "collapsed": false
   },
   "outputs": [
    {
     "name": "stdout",
     "output_type": "stream",
     "text": [
      "Site Name\t\tPageRank\n",
      "----------\t\t----------\n",
      "Alpha.com\t\t[ 0.32101694]\n",
      "Bravo.com\t\t[ 0.17054304]\n",
      "Charlie.com\t\t[ 0.10659163]\n",
      "Delta.com\t\t[ 0.13679259]\n",
      "Echo.com\t\t[ 0.0643118]\n",
      "Foxtrot.com\t\t[ 0.200744]\n"
     ]
    }
   ],
   "source": [
    "import numpy as np\n",
    "\n",
    "site_names = ['Alpha.com',\n",
    "              'Bravo.com',\n",
    "              'Charlie.com',\n",
    "              'Delta.com',\n",
    "              'Echo.com',\n",
    "              'Foxtrot.com']\n",
    "\n",
    "G = np.array([[0,0,0,1,0,1],\n",
    "             [1,0,0,0,0,0],\n",
    "             [0,1,0,0,0,0],\n",
    "             [0,1,1,0,0,0],\n",
    "             [0,0,1,0,0,0],\n",
    "             [1,0,1,0,0,0]])\n",
    "\n",
    "d = 0.85\n",
    "\n",
    "def page_rank(G, d):\n",
    "    \n",
    "    # find the total number of pages\n",
    "    N = len(G)\n",
    "    \n",
    "    # find the number of links on each page\n",
    "    c = np.sum(G, axis=0)\n",
    "    \n",
    "    # create a weighting matrix based on number of links on each page\n",
    "    with np.errstate(divide='ignore'): # watch out for divide by zero errors\n",
    "        c = 1/c\n",
    "        c[ ~ np.isfinite(c)] = 0 \n",
    "    D = np.diag(c)\n",
    "\n",
    "    # create a sparse identity matrix\n",
    "    I = np.eye(N)\n",
    "    \n",
    "    # create a vector column of ones\n",
    "    e = np.ones((N,1))\n",
    "    \n",
    "    # solve for the page ranks\n",
    "    ranks = np.linalg.solve((I-d*np.dot(G,D)), e)\n",
    "    ranks = ranks / np.sum(ranks)\n",
    "    \n",
    "    return ranks\n",
    "\t\n",
    "R = page_rank(G, d)\n",
    "\n",
    "print(\"Site Name\\t\\tPageRank\")\n",
    "print(\"----------\\t\\t----------\")\n",
    "for site in zip(site_names, R):\n",
    "    print(str(site[0]) + '\\t\\t' + str(site[1]))"
   ]
  },
  {
   "cell_type": "code",
   "execution_count": null,
   "metadata": {
    "collapsed": true
   },
   "outputs": [],
   "source": []
  }
 ],
 "metadata": {
  "anaconda-cloud": {},
  "kernelspec": {
   "display_name": "Python [conda root]",
   "language": "python",
   "name": "conda-root-py"
  },
  "language_info": {
   "codemirror_mode": {
    "name": "ipython",
    "version": 3
   },
   "file_extension": ".py",
   "mimetype": "text/x-python",
   "name": "python",
   "nbconvert_exporter": "python",
   "pygments_lexer": "ipython3",
   "version": "3.5.2"
  },
  "nbpresent": {
   "slides": {
    "ced27210-cf1f-437d-bb38-91f167aa8316": {
     "id": "ced27210-cf1f-437d-bb38-91f167aa8316",
     "prev": null,
     "regions": {
      "54373dd3-5f8e-4caf-af7f-9a61e324ab74": {
       "attrs": {
        "height": 0.8,
        "width": 0.8,
        "x": 0.1,
        "y": 0.1
       },
       "content": {
        "cell": "ff409b56-fda1-4090-a816-4655743971de",
        "part": "whole"
       },
       "id": "54373dd3-5f8e-4caf-af7f-9a61e324ab74"
      }
     }
    },
    "d993b5b8-da8e-4d50-a5ee-48a949e791c6": {
     "id": "d993b5b8-da8e-4d50-a5ee-48a949e791c6",
     "prev": "ced27210-cf1f-437d-bb38-91f167aa8316",
     "regions": {
      "5f388187-0471-42b2-a0cb-e601c28a64a0": {
       "attrs": {
        "height": 0.8,
        "width": 0.8,
        "x": 0.1,
        "y": 0.1
       },
       "content": {
        "cell": "465bb706-f8c3-41eb-a308-a93c35a4e7d6",
        "part": "whole"
       },
       "id": "5f388187-0471-42b2-a0cb-e601c28a64a0"
      }
     }
    }
   },
   "themes": {}
  }
 },
 "nbformat": 4,
 "nbformat_minor": 1
}
