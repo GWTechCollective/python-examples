{
 "cells": [
  {
   "cell_type": "markdown",
   "metadata": {
    "nbpresent": {
     "id": "ff409b56-fda1-4090-a816-4655743971de"
    }
   },
   "source": [
    "# PageRank\n",
    "\n",
    "A common task in engineering is solving systems of linear equations. This example will demonstrate how to solve a simple set of linear equations using Google's PageRank algorithm as an example."
   ]
  },
  {
   "cell_type": "markdown",
   "metadata": {},
   "source": [
    "Consider the following system of equations:\n",
    "    \n",
    "\\begin{align}\n",
    "    ax_{1} + bx_{2} &= z_{1} \\\\\n",
    "    cx_{1} + dx_{2} &= z_{2}\n",
    "\\end{align}"
   ]
  },
  {
   "cell_type": "markdown",
   "metadata": {},
   "source": [
    "In linear algebra, this system is susually represented as follows:\n",
    "\n",
    "\\begin{align}\n",
    "    \\begin{bmatrix}\n",
    "        a & b \\\\\n",
    "        c & d\n",
    "    \\end{bmatrix}\n",
    "    \\begin{bmatrix}\n",
    "        x_{1} \\\\\n",
    "        x_{2}\n",
    "    \\end{bmatrix}\n",
    "    =\n",
    "    \\begin{bmatrix}\n",
    "        z_{1} \\\\\n",
    "        z_{2}\n",
    "    \\end{bmatrix}\n",
    "\\end{align}\n"
   ]
  },
  {
   "cell_type": "markdown",
   "metadata": {},
   "source": [
    "The system may be solved by multiplying the inverse of the coefficient matrix by the Z matrix\n",
    "\n",
    "\\begin{align}\n",
    "    \\begin{bmatrix}\n",
    "        a & b \\\\\n",
    "        c & d\n",
    "    \\end{bmatrix}\n",
    "    ^{-1}\n",
    "    \\begin{bmatrix}\n",
    "        z_{1} \\\\\n",
    "        z_{2}\n",
    "    \\end{bmatrix}\n",
    "    =\n",
    "    \\begin{bmatrix}\n",
    "        x_{1} \\\\\n",
    "        x_{2}\n",
    "    \\end{bmatrix}\n",
    "\\end{align}"
   ]
  },
  {
   "cell_type": "markdown",
   "metadata": {},
   "source": [
    "We will now solve a simple word problem as a simple demonstration of this process.\n",
    "\n",
    "> Stanley and Nancy are at the fair.\n",
    "\n",
    "> Stanley buys **two burgers** and **five hotdogs** and pays a total of **\\$19**.\n",
    "\n",
    "> Nancy buys **three burgers** and **seven hotdogs** and pays a total of **$27**.\n",
    "\n",
    "> What is the price of of a single hamburger or hot dog?"
   ]
  },
  {
   "cell_type": "markdown",
   "metadata": {},
   "source": [
    "We start by setting up the matrix using the information provided by the problem\n",
    "\n",
    "\\begin{align}\n",
    "    \\begin{bmatrix}\n",
    "        2 & 5 \\\\\n",
    "        3 & 7\n",
    "    \\end{bmatrix}\n",
    "    ^{-1}\n",
    "    \\begin{bmatrix}\n",
    "        19 \\\\\n",
    "        27\n",
    "    \\end{bmatrix}\n",
    "    =\n",
    "    \\begin{bmatrix}\n",
    "        x_{1} \\\\\n",
    "        x_{2}\n",
    "    \\end{bmatrix}\n",
    "\\end{align}"
   ]
  },
  {
   "cell_type": "markdown",
   "metadata": {},
   "source": [
    "For a simple 2X2 mmatrix, we can solve for the inverse of a matrix using the following equation:\n",
    "\n",
    "\\begin{align}\n",
    "    \\begin{bmatrix}\n",
    "        a & b \\\\\n",
    "        c & d\n",
    "    \\end{bmatrix}^{-1}\n",
    "    =\n",
    "    \\frac{1}{ad-cb}\n",
    "    \\begin{bmatrix}\n",
    "        d & -b \\\\\n",
    "        -c & a\n",
    "    \\end{bmatrix}\n",
    "\\end{align}\n",
    "\n",
    "Plugging in the values:\n",
    "\n",
    "\\begin{align}\n",
    "    \\begin{bmatrix}\n",
    "        2 & 5 \\\\\n",
    "        3 & 7\n",
    "    \\end{bmatrix}^{-1}\n",
    "    =\n",
    "    \\frac{1}{2*7-3*5}\n",
    "    \\begin{bmatrix}\n",
    "        7 & -5 \\\\\n",
    "        -3 & 2\n",
    "    \\end{bmatrix}\n",
    "    =\n",
    "    \\begin{bmatrix}\n",
    "        -7 & 5 \\\\\n",
    "        2 & -2\n",
    "    \\end{bmatrix}\n",
    "\\end{align}"
   ]
  },
  {
   "cell_type": "markdown",
   "metadata": {},
   "source": [
    "Multiplying the matrices we get the following result:\n",
    "\n",
    "\\begin{align}\n",
    "    \\begin{bmatrix}\n",
    "        -7 & 5 \\\\\n",
    "        2 & -2\n",
    "    \\end{bmatrix}\n",
    "    \\begin{bmatrix}\n",
    "        19 \\\\\n",
    "        27\n",
    "    \\end{bmatrix}\n",
    "    &=\n",
    "    \\begin{bmatrix}\n",
    "        x_{1} \\\\\n",
    "        x_{2}\n",
    "    \\end{bmatrix}\\\\\\\\\n",
    "    \\begin{bmatrix}\n",
    "        -7 & 5 \\\\\n",
    "        2 & -2\n",
    "    \\end{bmatrix}\n",
    "    \\begin{bmatrix}\n",
    "        19 \\\\\n",
    "        27\n",
    "    \\end{bmatrix}\n",
    "    &=\n",
    "    \\begin{bmatrix}\n",
    "        x_{1} \\\\\n",
    "        x_{2}\n",
    "    \\end{bmatrix}\\\\\\\\\n",
    "    \\begin{bmatrix}\n",
    "        (-7\\times19)+(5\\times27) \\\\\n",
    "        (3\\times9)+(-2\\times27)\n",
    "    \\end{bmatrix}\n",
    "    &=\n",
    "    \\begin{bmatrix}\n",
    "        2 \\\\\n",
    "        3\n",
    "    \\end{bmatrix}\\\\\\\\\n",
    "    \\begin{bmatrix}\n",
    "        x_{1} \\\\\n",
    "        x_{2}\n",
    "    \\end{bmatrix}\n",
    "    &=\n",
    "    \\begin{bmatrix}\n",
    "        2 \\\\\n",
    "        3\n",
    "    \\end{bmatrix}\n",
    "\\end{align}\n"
   ]
  },
  {
   "cell_type": "markdown",
   "metadata": {},
   "source": [
    "**Therefore, burgers cost $2 and hotdogs cost $3**\n",
    "---"
   ]
  },
  {
   "cell_type": "markdown",
   "metadata": {},
   "source": [
    "Now that we have solved the problem by hand, let's solve it with Python"
   ]
  },
  {
   "cell_type": "code",
   "execution_count": 4,
   "metadata": {
    "collapsed": false
   },
   "outputs": [
    {
     "name": "stdout",
     "output_type": "stream",
     "text": [
      "Burgers cost: $2.00\n",
      "Hotdogs cost: $3.00\n"
     ]
    }
   ],
   "source": [
    "import numpy as np\n",
    "\n",
    "# assign our coefficients matrix\n",
    "a = np.array([[2,5], [3,7]])\n",
    "\n",
    "# assign out z matrix\n",
    "z = np.array([19,27])\n",
    "\n",
    "# use numpy's built in function for solving systems of equations\n",
    "x = np.linalg.solve(a,z)\n",
    "\n",
    "# print the results\n",
    "print(\"Burgers cost: ${0:.2f}\".format(x[0]))\n",
    "print(\"Hotdogs cost: ${0:.2f}\".format(x[1]))"
   ]
  },
  {
   "cell_type": "code",
   "execution_count": null,
   "metadata": {
    "collapsed": true
   },
   "outputs": [],
   "source": []
  }
 ],
 "metadata": {
  "anaconda-cloud": {},
  "kernelspec": {
   "display_name": "Python [conda root]",
   "language": "python",
   "name": "conda-root-py"
  },
  "language_info": {
   "codemirror_mode": {
    "name": "ipython",
    "version": 3
   },
   "file_extension": ".py",
   "mimetype": "text/x-python",
   "name": "python",
   "nbconvert_exporter": "python",
   "pygments_lexer": "ipython3",
   "version": "3.5.2"
  },
  "nbpresent": {
   "slides": {
    "ced27210-cf1f-437d-bb38-91f167aa8316": {
     "id": "ced27210-cf1f-437d-bb38-91f167aa8316",
     "prev": null,
     "regions": {
      "54373dd3-5f8e-4caf-af7f-9a61e324ab74": {
       "attrs": {
        "height": 0.8,
        "width": 0.8,
        "x": 0.1,
        "y": 0.1
       },
       "content": {
        "cell": "ff409b56-fda1-4090-a816-4655743971de",
        "part": "whole"
       },
       "id": "54373dd3-5f8e-4caf-af7f-9a61e324ab74"
      }
     }
    },
    "d993b5b8-da8e-4d50-a5ee-48a949e791c6": {
     "id": "d993b5b8-da8e-4d50-a5ee-48a949e791c6",
     "prev": "ced27210-cf1f-437d-bb38-91f167aa8316",
     "regions": {
      "5f388187-0471-42b2-a0cb-e601c28a64a0": {
       "attrs": {
        "height": 0.8,
        "width": 0.8,
        "x": 0.1,
        "y": 0.1
       },
       "content": {
        "cell": "465bb706-f8c3-41eb-a308-a93c35a4e7d6",
        "part": "whole"
       },
       "id": "5f388187-0471-42b2-a0cb-e601c28a64a0"
      }
     }
    }
   },
   "themes": {}
  }
 },
 "nbformat": 4,
 "nbformat_minor": 1
}
